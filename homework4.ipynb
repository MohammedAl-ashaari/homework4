{
 "cells": [
  {
   "cell_type": "code",
   "execution_count": 18,
   "metadata": {},
   "outputs": [
    {
     "name": "stdout",
     "output_type": "stream",
     "text": [
      "Accuracy: 0.6945276340865777\n",
      "\n",
      "Classification Report:\n",
      "               precision    recall  f1-score   support\n",
      "\n",
      "    negative       0.64      0.15      0.25       441\n",
      "     neutral       0.71      0.27      0.39       912\n",
      "    positive       0.69      0.96      0.81      2320\n",
      "\n",
      "    accuracy                           0.69      3673\n",
      "   macro avg       0.68      0.46      0.48      3673\n",
      "weighted avg       0.69      0.69      0.64      3673\n",
      "\n",
      "Comment: I really love this video, very helpful! --> Predicted Sentiment: positive\n",
      "Comment: This is the worst thing I've ever seen. --> Predicted Sentiment: positive\n",
      "Comment: Not bad, but could be better. --> Predicted Sentiment: positive\n",
      "Comment: I don’t have any strong opinion about this. --> Predicted Sentiment: positive\n"
     ]
    }
   ],
   "source": [
    "import pandas as pd\n",
    "from sklearn.feature_extraction.text import TfidfVectorizer\n",
    "from sklearn.naive_bayes import MultinomialNB\n",
    "from sklearn.model_selection import train_test_split\n",
    "from sklearn.metrics import classification_report, accuracy_score\n",
    "\n",
    "# 1. تحميل البيانات\n",
    "df = pd.read_csv(\"YoutubeCommentsDataSet.csv\")\n",
    "\n",
    "# 2. اختيار الأعمدة المطلوبة وحذف القيم الفارغة\n",
    "df = df[['Comment', 'Sentiment']].dropna()\n",
    "\n",
    "# 3. إضافة تعليقات جديدة كتجربة تنبؤ ضمن البيانات\n",
    "new_comments = [\n",
    "    {\"Comment\": \"I really love this video, very helpful!\", \"Sentiment\": None},\n",
    "    {\"Comment\": \"This is the worst thing I've ever seen.\", \"Sentiment\": None},\n",
    "    {\"Comment\": \"Not bad, but could be better.\", \"Sentiment\": None},\n",
    "    {\"Comment\": \"I don’t have any strong opinion about this.\", \"Sentiment\": None}\n",
    "]\n",
    "\n",
    "df = pd.concat([df, pd.DataFrame(new_comments)], ignore_index=True)\n",
    "\n",
    "# 4. تقسيم البيانات إلى بيانات تدريب واختبار\n",
    "# نأخذ التعليقات التي لديها تصنيف فقط للتدريب والاختبار\n",
    "train_df = df[df['Sentiment'].notna()]\n",
    "X_train, X_test, y_train, y_test = train_test_split(\n",
    "    train_df['Comment'], train_df['Sentiment'], test_size=0.2, random_state=42\n",
    ")\n",
    "\n",
    "# 5. تحويل النصوص إلى تمثيل عددي (TF-IDF)\n",
    "vectorizer = TfidfVectorizer(stop_words='english', max_features=5000)\n",
    "X_train_vec = vectorizer.fit_transform(X_train)\n",
    "X_test_vec = vectorizer.transform(X_test)\n",
    "\n",
    "# 6. إنشاء وتدريب نموذج MultinomialNB\n",
    "model = MultinomialNB(alpha=1.0)\n",
    "model.fit(X_train_vec, y_train)\n",
    "\n",
    "# 7. التنبؤ على بيانات الاختبار وتقييم النموذج\n",
    "y_pred = model.predict(X_test_vec)\n",
    "print(\"Accuracy:\", accuracy_score(y_test, y_pred))\n",
    "print(\"\\nClassification Report:\\n\", classification_report(y_test, y_pred))\n",
    "\n",
    "# 8. تجربة التنبؤ على التعليقات الجديدة ضمن الداتا\n",
    "new_comments_df = df[df['Sentiment'].isna()]  # التعليقات بدون تصنيف\n",
    "new_comments_vec = vectorizer.transform(new_comments_df['Comment'])\n",
    "predictions = model.predict(new_comments_vec)\n",
    "\n",
    "for comment, pred in zip(new_comments_df['Comment'], predictions):\n",
    "    print(f\"Comment: {comment} --> Predicted Sentiment: {pred}\")"
   ]
  },
  {
   "cell_type": "code",
   "execution_count": null,
   "metadata": {},
   "outputs": [],
   "source": []
  }
 ],
 "metadata": {
  "kernelspec": {
   "display_name": "Python 3",
   "language": "python",
   "name": "python3"
  },
  "language_info": {
   "codemirror_mode": {
    "name": "ipython",
    "version": 3
   },
   "file_extension": ".py",
   "mimetype": "text/x-python",
   "name": "python",
   "nbconvert_exporter": "python",
   "pygments_lexer": "ipython3",
   "version": "3.8.5"
  }
 },
 "nbformat": 4,
 "nbformat_minor": 4
}
